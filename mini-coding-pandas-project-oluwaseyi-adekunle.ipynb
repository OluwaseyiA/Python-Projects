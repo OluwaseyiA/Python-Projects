{
 "cells": [
  {
   "cell_type": "code",
   "execution_count": null,
   "metadata": {},
   "outputs": [],
   "source": [
    "import pandas as pd\n",
    "df = pd.read_csv('fortune1000.csv')\n",
    "print(df.head())\n",
    "#this code allows for csv file to load\n",
    "#user also creates dataframe "
   ]
  },
  {
   "cell_type": "code",
   "execution_count": null,
   "metadata": {},
   "outputs": [],
   "source": [
    "print(type(df))\n",
    "print(df.shape)\n",
    "print(df.columns)\n",
    "print(df.dtypes)\n",
    "print(df.info())\n",
    "#print out the shape atrribute to retrieve number of rows and columns\n",
    "#the column attribute shows the column names"
   ]
  },
  {
   "cell_type": "code",
   "execution_count": null,
   "metadata": {},
   "outputs": [],
   "source": [
    "company_df = df.columns\n",
    "print(company_df)\n",
    "#create a variable and set it show all columns"
   ]
  },
  {
   "cell_type": "code",
   "execution_count": 5,
   "metadata": {},
   "outputs": [
    {
     "name": "stdout",
     "output_type": "stream",
     "text": [
      "                        Company  Revenue  Profits\n",
      "0                       Walmart   482130    14694\n",
      "1                   Exxon Mobil   246204    16150\n",
      "2                         Apple   233715    53394\n",
      "3            Berkshire Hathaway   210821    24083\n",
      "4                      McKesson   181241     1476\n",
      "..                          ...      ...      ...\n",
      "995  New York Community Bancorp     1902      -47\n",
      "996   Portland General Electric     1898      172\n",
      "997   Portland General Electric     1898      172\n",
      "998                     Wendy’s     1896      161\n",
      "999           Briggs & Stratton     1895       46\n",
      "\n",
      "[1000 rows x 3 columns]\n"
     ]
    }
   ],
   "source": [
    "import pandas as pd\n",
    "df = pd.read_csv('fortune1000.csv')\n",
    "subset = df[['Company', 'Revenue', 'Profits']]\n",
    "print(subset)\n",
    "#subsetting specific columns by listing the names in brackets"
   ]
  },
  {
   "cell_type": "code",
   "execution_count": null,
   "metadata": {},
   "outputs": [],
   "source": [
    "print(df.loc[0])\n",
    "number_of_rows = df.shape [0]\n",
    "last_row_index = number_of_rows - 1\n",
    "print(df.loc[last_row_index])\n",
    "Series = df.iloc[[0]]\n",
    "#create code to only show the info located in index 0"
   ]
  },
  {
   "cell_type": "code",
   "execution_count": 3,
   "metadata": {},
   "outputs": [
    {
     "ename": "NameError",
     "evalue": "name 'df' is not defined",
     "output_type": "error",
     "traceback": [
      "\u001b[1;31m---------------------------------------------------------------------------\u001b[0m",
      "\u001b[1;31mNameError\u001b[0m                                 Traceback (most recent call last)",
      "\u001b[1;32m~\\AppData\\Local\\Temp/ipykernel_13192/619639174.py\u001b[0m in \u001b[0;36m<module>\u001b[1;34m\u001b[0m\n\u001b[1;32m----> 1\u001b[1;33m \u001b[0mprint\u001b[0m\u001b[1;33m(\u001b[0m\u001b[0mdf\u001b[0m\u001b[1;33m.\u001b[0m\u001b[0mloc\u001b[0m\u001b[1;33m[\u001b[0m\u001b[1;33m[\u001b[0m\u001b[1;36m0\u001b[0m\u001b[1;33m,\u001b[0m\u001b[1;36m99\u001b[0m\u001b[1;33m,\u001b[0m\u001b[1;36m999\u001b[0m\u001b[1;33m]\u001b[0m\u001b[1;33m]\u001b[0m\u001b[1;33m)\u001b[0m\u001b[1;33m\u001b[0m\u001b[1;33m\u001b[0m\u001b[0m\n\u001b[0m\u001b[0;32m      2\u001b[0m \u001b[1;31m#printing specific rows in the dataframe\u001b[0m\u001b[1;33m\u001b[0m\u001b[1;33m\u001b[0m\u001b[0m\n",
      "\u001b[1;31mNameError\u001b[0m: name 'df' is not defined"
     ]
    }
   ],
   "source": [
    "print(df.loc[[0,99,999]])\n",
    "#printing specific rows in the dataframe"
   ]
  },
  {
   "cell_type": "code",
   "execution_count": null,
   "metadata": {},
   "outputs": [],
   "source": [
    "subset2 = df.iloc[:,[0,2,-1]]\n",
    "print(subset2.head)\n",
    "#setting the location of the dataframe to show"
   ]
  },
  {
   "cell_type": "code",
   "execution_count": 6,
   "metadata": {},
   "outputs": [
    {
     "name": "stdout",
     "output_type": "stream",
     "text": [
      "   Rank             Company       Sector  \\\n",
      "0     1             Walmart    Retailing   \n",
      "1     2         Exxon Mobil       Energy   \n",
      "2     3               Apple   Technology   \n",
      "3     4  Berkshire Hathaway   Financials   \n",
      "4     5            McKesson  Health Care   \n",
      "\n",
      "                                   Industry  \n",
      "0                     General Merchandisers  \n",
      "1                        Petroleum Refining  \n",
      "2               Computers, Office Equipment  \n",
      "3  Insurance: Property and Casualty (Stock)  \n",
      "4                  Wholesalers: Health Care  \n"
     ]
    }
   ],
   "source": [
    "small_range = list(range(4))\n",
    "subset = df.iloc[:,small_range]\n",
    "print(subset.head())\n",
    "#using the iloc method to retrieve a list with a range of 4"
   ]
  },
  {
   "cell_type": "code",
   "execution_count": null,
   "metadata": {},
   "outputs": [],
   "source": [
    "print(df.loc[10,'Company'])\n",
    "print(df.iloc[10,1])\n",
    "#subset a row containing a label index with an integer and name"
   ]
  },
  {
   "cell_type": "code",
   "execution_count": 1,
   "metadata": {},
   "outputs": [
    {
     "ename": "NameError",
     "evalue": "name 'df' is not defined",
     "output_type": "error",
     "traceback": [
      "\u001b[1;31m---------------------------------------------------------------------------\u001b[0m",
      "\u001b[1;31mNameError\u001b[0m                                 Traceback (most recent call last)",
      "\u001b[1;32m~\\AppData\\Local\\Temp/ipykernel_13192/459761419.py\u001b[0m in \u001b[0;36m<module>\u001b[1;34m\u001b[0m\n\u001b[1;32m----> 1\u001b[1;33m \u001b[0mprint\u001b[0m\u001b[1;33m(\u001b[0m\u001b[0mdf\u001b[0m\u001b[1;33m.\u001b[0m\u001b[0mgroupby\u001b[0m\u001b[1;33m(\u001b[0m\u001b[1;34m'Sector'\u001b[0m\u001b[1;33m)\u001b[0m\u001b[1;33m[\u001b[0m\u001b[1;34m'Employees'\u001b[0m\u001b[1;33m]\u001b[0m\u001b[1;33m.\u001b[0m\u001b[0mmean\u001b[0m\u001b[1;33m(\u001b[0m\u001b[1;33m)\u001b[0m\u001b[1;33m)\u001b[0m\u001b[1;33m\u001b[0m\u001b[1;33m\u001b[0m\u001b[0m\n\u001b[0m\u001b[0;32m      2\u001b[0m \u001b[1;31m#using the grouping method to get the Sector part of the dataframe-Employee\u001b[0m\u001b[1;33m\u001b[0m\u001b[1;33m\u001b[0m\u001b[0m\n",
      "\u001b[1;31mNameError\u001b[0m: name 'df' is not defined"
     ]
    }
   ],
   "source": [
    "print(df.groupby('Sector')['Employees'].mean())\n",
    "#using the grouping method to get the Sector part of the dataframe-Employee"
   ]
  },
  {
   "cell_type": "code",
   "execution_count": 2,
   "metadata": {},
   "outputs": [
    {
     "ename": "NameError",
     "evalue": "name 'df' is not defined",
     "output_type": "error",
     "traceback": [
      "\u001b[1;31m---------------------------------------------------------------------------\u001b[0m",
      "\u001b[1;31mNameError\u001b[0m                                 Traceback (most recent call last)",
      "\u001b[1;32m~\\AppData\\Local\\Temp/ipykernel_13192/2143066606.py\u001b[0m in \u001b[0;36m<module>\u001b[1;34m\u001b[0m\n\u001b[1;32m----> 1\u001b[1;33m \u001b[0mgrouped_sector_df\u001b[0m \u001b[1;33m=\u001b[0m \u001b[0mdf\u001b[0m\u001b[1;33m.\u001b[0m\u001b[0mgroupby\u001b[0m\u001b[1;33m(\u001b[0m\u001b[1;34m'Sector'\u001b[0m\u001b[1;33m)\u001b[0m\u001b[1;33m\u001b[0m\u001b[1;33m\u001b[0m\u001b[0m\n\u001b[0m\u001b[0;32m      2\u001b[0m \u001b[0mgrouped_sector_df_revenue\u001b[0m \u001b[1;33m=\u001b[0m \u001b[0mgrouped_sector_df\u001b[0m\u001b[1;33m[\u001b[0m\u001b[1;34m'Revenue'\u001b[0m\u001b[1;33m]\u001b[0m\u001b[1;33m\u001b[0m\u001b[1;33m\u001b[0m\u001b[0m\n\u001b[0;32m      3\u001b[0m \u001b[0mprint\u001b[0m\u001b[1;33m(\u001b[0m\u001b[0mgrouped_sector_df_revenue\u001b[0m\u001b[1;33m)\u001b[0m\u001b[1;33m\u001b[0m\u001b[1;33m\u001b[0m\u001b[0m\n\u001b[0;32m      4\u001b[0m \u001b[0mmean_sector_by_revenue\u001b[0m \u001b[1;33m=\u001b[0m \u001b[0mgrouped_sector_df_revenue\u001b[0m\u001b[1;33m.\u001b[0m\u001b[0mmean\u001b[0m\u001b[1;33m(\u001b[0m\u001b[1;33m)\u001b[0m\u001b[1;33m\u001b[0m\u001b[1;33m\u001b[0m\u001b[0m\n\u001b[0;32m      5\u001b[0m \u001b[0mprint\u001b[0m\u001b[1;33m(\u001b[0m\u001b[0mmean_sector_by_revenue\u001b[0m\u001b[1;33m)\u001b[0m\u001b[1;33m\u001b[0m\u001b[1;33m\u001b[0m\u001b[0m\n",
      "\u001b[1;31mNameError\u001b[0m: name 'df' is not defined"
     ]
    }
   ],
   "source": [
    "grouped_sector_df = df.groupby('Sector')\n",
    "grouped_sector_df_revenue = grouped_sector_df['Revenue']\n",
    "print(grouped_sector_df_revenue)\n",
    "mean_sector_by_revenue = grouped_sector_df_revenue.mean()\n",
    "print(mean_sector_by_revenue)\n",
    "#grouping method to show sector by revenue"
   ]
  },
  {
   "cell_type": "code",
   "execution_count": null,
   "metadata": {},
   "outputs": [],
   "source": [
    "multi_group_var = df.groupby(['Sector','Company'])[['Revenue','Profits']].mean()\n",
    "print(multi_group_var)\n",
    "#setting multiple groups"
   ]
  },
  {
   "cell_type": "code",
   "execution_count": null,
   "metadata": {},
   "outputs": [],
   "source": [
    "plot_df = df.head()\n",
    "print(plot_df)\n",
    "sector_revenue_mean = plot_df.groupby('Sector')['Revenue'].mean()\n",
    "print(sector_revenue_mean)\n",
    "sector_revenue_mean.plot()\n",
    "#creating a plot using groupby and using plot"
   ]
  },
  {
   "cell_type": "code",
   "execution_count": null,
   "metadata": {},
   "outputs": [],
   "source": [
    "seriesList = pd.Series(['Wes McKinney','Creator of Pandas'],index=['Person','Who'])\n",
    "print(seriesList)\n",
    "seriesDict = pd.Series({'Person':'Wes McKinney','Who':'Creator of Pandas'})\n",
    "print(seriesDict)"
   ]
  },
  {
   "cell_type": "code",
   "execution_count": null,
   "metadata": {},
   "outputs": [],
   "source": [
    "scientists = pd.DataFrame({\n",
    "    ' Name': ['Rosaline Franklin','William Gosset'],\n",
    "    ' Occupation': ['Chemist','Statistician'],\n",
    "    ' Born': ['1920-07-25', '1876-06-13'],\n",
    "    ' Died': ['1958-04-16', '1937-10-16'],\n",
    "    ' Age': [37, 61]})\n",
    "print(scientists)\n",
    "#creating a new dataframe\n",
    "#manually entering the info for the dataframe"
   ]
  }
 ],
 "metadata": {
  "interpreter": {
   "hash": "74360592c001720cc45c2476dbfa8c81347105bd5ccf87fb74145f6c9dbce04c"
  },
  "kernelspec": {
   "display_name": "Python 3.9.7 ('base')",
   "language": "python",
   "name": "python3"
  },
  "language_info": {
   "codemirror_mode": {
    "name": "ipython",
    "version": 3
   },
   "file_extension": ".py",
   "mimetype": "text/x-python",
   "name": "python",
   "nbconvert_exporter": "python",
   "pygments_lexer": "ipython3",
   "version": "3.9.7"
  },
  "orig_nbformat": 4
 },
 "nbformat": 4,
 "nbformat_minor": 2
}
