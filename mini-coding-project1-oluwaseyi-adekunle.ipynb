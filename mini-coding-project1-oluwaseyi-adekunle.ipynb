{
 "cells": [
  {
   "cell_type": "code",
   "execution_count": 19,
   "metadata": {},
   "outputs": [
    {
     "name": "stdout",
     "output_type": "stream",
     "text": [
      "18328\n",
      "2022-04-13\n",
      "Hello Oluwaseyi, Welcome to the world of Python\n",
      "<class 'str'>\n",
      "32.22222222222222\n",
      "<class 'float'>\n",
      "0.625\n",
      "20\n"
     ]
    }
   ],
   "source": [
    "from datetime import date\n",
    "import getpass\n",
    "\n",
    "print(getpass.getuser())\n",
    "print(date.today())\n",
    "#it will print the date\n",
    "name = input('Oluwaseyi:')\n",
    "#name is the variable and it is assigned to a function\n",
    "if name == '':\n",
    "    print('No name was entered')\n",
    "    name = input('Oluwaseyi:')\n",
    "    print('Hello ' + name + ', Welcome to the world of Python')\n",
    "else:\n",
    "    print('Hello ' + name + ', Welcome to the world of Python')\n",
    "#after printing the code it will prompt user to enter name\n",
    "#if name is not entered it will run as 'no name was entered'.\n",
    "print(type(name)) \n",
    "\n",
    "tempInput = input('Enter a temperature in Farenheit:')\n",
    "\n",
    "try:\n",
    "    fahrenheit = float(tempInput)\n",
    "    celsius = (fahrenheit - 32) * 5.0/9.0\n",
    "    print(celsius)\n",
    "    print(type(celsius))\n",
    "#the input is converted to celsius\n",
    "#when prompted the user will enter a numerical value in fahrenheit\n",
    "#if user does not input number the code'Your code caused an error' will come up\n",
    "except:\n",
    "     print('Your code caused an error!')\n",
    "\n",
    "print(5/8)\n",
    "print(2*10)\n",
    "#added division and multiplication into python script"
   ]
  }
 ],
 "metadata": {
  "interpreter": {
   "hash": "2e0771d5f75274ad646feb9ae632dea9bee97ffdf369483ac87bf693b3f61672"
  },
  "kernelspec": {
   "display_name": "Python 3.9.7 ('base')",
   "language": "python",
   "name": "python3"
  },
  "language_info": {
   "codemirror_mode": {
    "name": "ipython",
    "version": 3
   },
   "file_extension": ".py",
   "mimetype": "text/x-python",
   "name": "python",
   "nbconvert_exporter": "python",
   "pygments_lexer": "ipython3",
   "version": "3.9.7"
  },
  "orig_nbformat": 4
 },
 "nbformat": 4,
 "nbformat_minor": 2
}
