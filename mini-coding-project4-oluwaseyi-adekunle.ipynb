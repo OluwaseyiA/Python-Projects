{
 "cells": [
  {
   "cell_type": "code",
   "execution_count": null,
   "metadata": {},
   "outputs": [],
   "source": [
    "import seaborn as sns\n",
    "anscombe = sns.load_dataset(\"anscombe\")\n",
    "print(anscombe)\n",
    "#here we are loading anscombe dataset"
   ]
  },
  {
   "cell_type": "code",
   "execution_count": null,
   "metadata": {},
   "outputs": [],
   "source": [
    "tips = sns.load_dataset(\"tips\")\n",
    "print(tips.head())\n",
    "#we are loading tips dataset"
   ]
  },
  {
   "cell_type": "code",
   "execution_count": null,
   "metadata": {},
   "outputs": [],
   "source": [
    "import matplotlib.pyplot as plt\n",
    "fig = plt.figure()\n",
    "axesl = fig.add_subplot(1, 1, 1)\n",
    "axesl.hist(tips['total_bill'], bins=10)\n",
    "axesl.set_title('Histogram of Total Bill')\n",
    "axesl.set_xlabel('Frequency' )\n",
    "axesl.set_ylabel('Total Bill')\n",
    "fig.show ()\n",
    "#we import matplotlib to create histogram with tips dataset\n"
   ]
  },
  {
   "cell_type": "code",
   "execution_count": null,
   "metadata": {},
   "outputs": [],
   "source": [
    "import matplotlib.pyplot as plt\n",
    "scatter_plot = plt.figure()\n",
    "axesl = scatter_plot.add_subplot(1, 1, 1)\n",
    "axesl.scatter(tips['total_bill'], tips['tip'])\n",
    "axesl.set_title('Scatterplot of Total Bill vs Tip')\n",
    "axesl.set_xlabel('Total Bill')\n",
    "axesl.set_ylabel('Tip') \n",
    "scatter_plot.show()\n",
    "#we use same process to create a scatterplot using the tips dataset"
   ]
  },
  {
   "cell_type": "code",
   "execution_count": null,
   "metadata": {},
   "outputs": [],
   "source": [
    "import matplotlib.pyplot as plt\n",
    "boxplot = plt.figure()\n",
    "axesl = boxplot.add_subplot(1, 1, 1)\n",
    "axesl.boxplot([tips[tips['sex'] == 'Female']['tip'],\n",
    "tips [tips ['sex'] == 'Male']['tip']],['Female', 'Male'])\n",
    "axesl.set_xlabel('Sex')\n",
    "axesl.set_ylabel('Tip')\n",
    "axesl.set_title('Boxplot of Tips by Sex')\n",
    "#created a boxplot using tips data"
   ]
  },
  {
   "cell_type": "code",
   "execution_count": null,
   "metadata": {},
   "outputs": [],
   "source": [
    "#when a user subsets a dataframe using ix it will search for labels or it will fall back to using integer indexing\n",
    "#when using loc it is based on index label or row name"
   ]
  }
 ],
 "metadata": {
  "interpreter": {
   "hash": "74360592c001720cc45c2476dbfa8c81347105bd5ccf87fb74145f6c9dbce04c"
  },
  "kernelspec": {
   "display_name": "Python 3.9.7 ('base')",
   "language": "python",
   "name": "python3"
  },
  "language_info": {
   "codemirror_mode": {
    "name": "ipython",
    "version": 3
   },
   "file_extension": ".py",
   "mimetype": "text/x-python",
   "name": "python",
   "nbconvert_exporter": "python",
   "pygments_lexer": "ipython3",
   "version": "3.9.7"
  },
  "orig_nbformat": 4
 },
 "nbformat": 4,
 "nbformat_minor": 2
}
