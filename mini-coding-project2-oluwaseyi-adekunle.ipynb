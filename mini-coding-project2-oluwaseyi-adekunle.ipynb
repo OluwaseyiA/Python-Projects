{
 "cells": [
  {
   "cell_type": "code",
   "execution_count": 1,
   "metadata": {},
   "outputs": [
    {
     "name": "stdout",
     "output_type": "stream",
     "text": [
      "Oluwaseyi 45.0 80.0 3200.0 600.0\n",
      "Tola 35.0 50.0 1750.0 0\n",
      "Debbie 50.0 85.0 3400.0 1275.0\n",
      "Eric 20.0 40.0 800.0 0\n"
     ]
    }
   ],
   "source": [
    "def calculatePay(h,r):\n",
    "    rPay = 0\n",
    "    otPay = 0\n",
    "    otHours = h - 40\n",
    "    if(otHours > 0):\n",
    "        otRate = r * 1.5\n",
    "        otPay = otRate * otHours\n",
    "        rPay = 40 * r\n",
    "    else:\n",
    "        rPay = h * r\n",
    "\n",
    "    return rPay, otPay\n",
    "#creating a code that will enable user to enter number of hours and overime with the pay rate\n",
    "employees = ['Oluwaseyi', 'Tola', 'Debbie', 'Eric']\n",
    "#created a list for the employees that are on payroll\n",
    "for employee in employees:\n",
    "    regularPay = 0\n",
    "    overTimePay = 0\n",
    "    while True:\n",
    "        try:\n",
    "            tempHours = input('Please enter hours for ' + employee + ':')\n",
    "            tempRate = input('Please enter pay rate for ' + employee + ':')\n",
    "            hours = float(tempHours)\n",
    "            rate = float(tempRate)\n",
    "            regularPay, overTimePay = calculatePay(hours, rate)\n",
    "\n",
    "            print(employee, hours, rate, regularPay, overTimePay)\n",
    "\n",
    "            break\n",
    "        except:\n",
    "            print('Input Error, Please try again!')\n",
    "#the loop that will allow for user to enter number of hours and calculate pay for each employee"
   ]
  },
  {
   "cell_type": "code",
   "execution_count": 2,
   "metadata": {},
   "outputs": [
    {
     "name": "stdout",
     "output_type": "stream",
     "text": [
      "12000\n"
     ]
    }
   ],
   "source": [
    "savings = 1000\n",
    "yearly_multiplier = (1*12)\n",
    "total = (savings * yearly_multiplier)\n",
    "print(total)\n",
    "#I created code that would show much my savings would be after a year"
   ]
  }
 ],
 "metadata": {
  "interpreter": {
   "hash": "74360592c001720cc45c2476dbfa8c81347105bd5ccf87fb74145f6c9dbce04c"
  },
  "kernelspec": {
   "display_name": "Python 3.9.7 ('base')",
   "language": "python",
   "name": "python3"
  },
  "language_info": {
   "codemirror_mode": {
    "name": "ipython",
    "version": 3
   },
   "file_extension": ".py",
   "mimetype": "text/x-python",
   "name": "python",
   "nbconvert_exporter": "python",
   "pygments_lexer": "ipython3",
   "version": "3.9.7"
  },
  "orig_nbformat": 4
 },
 "nbformat": 4,
 "nbformat_minor": 2
}
