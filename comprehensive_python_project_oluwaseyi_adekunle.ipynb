{
 "cells": [
  {
   "cell_type": "code",
   "execution_count": null,
   "metadata": {},
   "outputs": [],
   "source": [
    "while True:\n",
    "    try:\n",
    "        fname = input('Enter the file name: ')\n",
    "        fhand = open(fname)\n",
    "        break\n",
    "    except:\n",
    "        print('File cannot be opened:', fname)\n",
    "#user is prompted to enter text file, it will loop back if file not found\n",
    "counts = dict()\n",
    "for line in fhand:\n",
    "    line = line.rstrip()\n",
    "    words = line.split()\n",
    "\n",
    "    for word in words:\n",
    "        word = word.lower()\n",
    "        if word not in counts:\n",
    "            counts[word] = 1\n",
    "        else:\n",
    "            counts[word] += 1\n",
    "    bigcount = None\n",
    "    bigword = None\n",
    "    for word,count in counts.items():\n",
    "        if bigcount is None or count > bigcount:\n",
    "            bigword = word\n",
    "            bigcount = count\n",
    "print(bigword,bigcount)\n",
    "print(counts)\n",
    "#code to count the number of words that appear the most \n",
    "lst = list(counts.keys())\n",
    "\n",
    "lst.sort()\n",
    "sortedCount = dict()\n",
    "for key in lst:\n",
    "    sortedCount[key] = counts[key]\n",
    "\n",
    "for word,count in sortedCount.items():\n",
    "    print(word, count)\n",
    "#this is to list out the number of words that appear the most \n",
    "print()\n",
    "\n",
    "print('The word ' + bigword + 'appears the most at a count of ' + str(bigcount))"
   ]
  }
 ],
 "metadata": {
  "interpreter": {
   "hash": "74360592c001720cc45c2476dbfa8c81347105bd5ccf87fb74145f6c9dbce04c"
  },
  "kernelspec": {
   "display_name": "Python 3.9.7 ('base')",
   "language": "python",
   "name": "python3"
  },
  "language_info": {
   "codemirror_mode": {
    "name": "ipython",
    "version": 3
   },
   "file_extension": ".py",
   "mimetype": "text/x-python",
   "name": "python",
   "nbconvert_exporter": "python",
   "pygments_lexer": "ipython3",
   "version": "3.9.7"
  },
  "orig_nbformat": 4
 },
 "nbformat": 4,
 "nbformat_minor": 2
}
