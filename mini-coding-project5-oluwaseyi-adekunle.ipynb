{
 "cells": [
  {
   "cell_type": "code",
   "execution_count": null,
   "metadata": {},
   "outputs": [],
   "source": [
    "import pandas as pd\n",
    "sv_df = pd.read_csv(r'C:\\Users\\18328\\Downloads\\survey_visited.csv')\n",
    "print(sv_df)\n",
    "#loading new dataset"
   ]
  },
  {
   "cell_type": "code",
   "execution_count": null,
   "metadata": {},
   "outputs": [],
   "source": [
    "import pandas as pd\n",
    "ss_df = pd.read_csv(r'C:\\Users\\18328\\Downloads\\survey_survey.csv')\n",
    "print(ss_df)\n",
    "#loading dataset"
   ]
  },
  {
   "cell_type": "code",
   "execution_count": null,
   "metadata": {},
   "outputs": [],
   "source": [
    "sv_df = pd.read_csv(r'C:\\Users\\18328\\Downloads\\survey_visited.csv')\n",
    "ss_df = pd.read_csv(r'C:\\Users\\18328\\Downloads\\survey_survey.csv')\n",
    "print(sv_df)\n",
    "print(ss_df)\n",
    "merged_df = sv_df.merge(ss_df, left_on='ident', right_on='taken')\n",
    "print(merged_df.head(5))\n",
    "#merging the visited and survey datasets and then printing only the first 5 rows"
   ]
  },
  {
   "cell_type": "code",
   "execution_count": null,
   "metadata": {},
   "outputs": [],
   "source": [
    "import pandas as pd\n",
    "nba_df = pd.read_csv(r'C:\\Users\\18328\\Downloads\\nba.csv')\n",
    "print(nba_df)\n",
    "#loading new dataset"
   ]
  },
  {
   "cell_type": "code",
   "execution_count": null,
   "metadata": {},
   "outputs": [],
   "source": [
    "nba_df = pd.read_csv(r'C:\\Users\\18328\\Downloads\\nba.csv')\n",
    "nba_df = nba_df.dropna()\n",
    "print(nba_df)\n",
    "#deleting NaN cells from the dataset"
   ]
  },
  {
   "cell_type": "code",
   "execution_count": null,
   "metadata": {},
   "outputs": [],
   "source": [
    "import numpy as np\n",
    "nba_df = pd.read_csv(r'C:\\Users\\18328\\Downloads\\nba.csv')\n",
    "nba_df.fillna(value = {'Salary' :0}, inplace=True)\n",
    "print(nba_df)\n",
    "#fixing mssing values in the Salary column to 0"
   ]
  },
  {
   "cell_type": "code",
   "execution_count": null,
   "metadata": {},
   "outputs": [],
   "source": [
    "import pandas as pd\n",
    "country_time_df = pd.read_csv(r'C:\\Users\\18328\\Downloads\\country_timeseries.csv')\n",
    "print(country_time_df)\n",
    "#loading new dataset"
   ]
  },
  {
   "cell_type": "code",
   "execution_count": null,
   "metadata": {},
   "outputs": [],
   "source": [
    "print(country_time_df.count())\n",
    "num_rows = country_time_df.shape[0]\n",
    "num_missing = num_rows - country_time_df.count()\n",
    "print(num_missing)\n",
    "#find the missing count from the data"
   ]
  },
  {
   "cell_type": "code",
   "execution_count": null,
   "metadata": {},
   "outputs": [],
   "source": [
    "print(country_time_df.columns)\n",
    "country_time_df_long = pd.melt(country_time_df, id_vars=['Date', 'Day'])\n",
    "variable_split = country_time_df_long.variable.str.split('_', expand=True)\n",
    "country_time_df_parsed = pd.concat([country_time_df_long, variable_split], axis= 1)\n",
    "print(country_time_df_parsed)\n",
    "#here I am using the simple method to concatenate and fix the columns"
   ]
  },
  {
   "cell_type": "code",
   "execution_count": null,
   "metadata": {},
   "outputs": [],
   "source": [
    "import pandas as pd\n",
    "import seaborn as sns\n",
    "tips = sns.load_dataset ('tips')\n",
    "print(tips)\n",
    "#loading in tips data"
   ]
  },
  {
   "cell_type": "code",
   "execution_count": null,
   "metadata": {},
   "outputs": [],
   "source": [
    "tips['sex'] = tips['sex'].astype('str')\n",
    "print(tips.info())\n",
    "#using the sex column we convert into string first"
   ]
  },
  {
   "cell_type": "code",
   "execution_count": null,
   "metadata": {},
   "outputs": [],
   "source": [
    "tips['sex'] = tips['sex'].astype('category')\n",
    "print(tips.info())\n",
    "#then we convert column into categorical data"
   ]
  }
 ],
 "metadata": {
  "interpreter": {
   "hash": "74360592c001720cc45c2476dbfa8c81347105bd5ccf87fb74145f6c9dbce04c"
  },
  "kernelspec": {
   "display_name": "Python 3.9.7 ('base')",
   "language": "python",
   "name": "python3"
  },
  "language_info": {
   "codemirror_mode": {
    "name": "ipython",
    "version": 3
   },
   "file_extension": ".py",
   "mimetype": "text/x-python",
   "name": "python",
   "nbconvert_exporter": "python",
   "pygments_lexer": "ipython3",
   "version": "3.9.7"
  },
  "orig_nbformat": 4
 },
 "nbformat": 4,
 "nbformat_minor": 2
}
