{
 "cells": [
  {
   "cell_type": "code",
   "execution_count": null,
   "metadata": {},
   "outputs": [],
   "source": [
    "import pandas as pd\n",
    "TSLA = pd.read_csv(r'C:\\Users\\18328\\Downloads\\TSLA.MI.csv')\n",
    "print(TSLA)\n",
    "#load TSLA dataset"
   ]
  },
  {
   "cell_type": "code",
   "execution_count": null,
   "metadata": {},
   "outputs": [],
   "source": [
    "print('Mean of Tesla Stock Price')\n",
    "import pandas as pd\n",
    "TSLA = pd.read_csv(r'C:\\Users\\18328\\Downloads\\TSLA.MI.csv')\n",
    "stock_price = TSLA['Adj Close']\n",
    "print(stock_price)\n",
    "print(stock_price.mean())\n",
    "#Calculate mean of adjusted close column\n",
    "\n"
   ]
  },
  {
   "cell_type": "code",
   "execution_count": null,
   "metadata": {},
   "outputs": [],
   "source": [
    "print('Median of Tesla Stock Price')\n",
    "import pandas as pd\n",
    "TSLA = pd.read_csv(r'C:\\Users\\18328\\Downloads\\TSLA.MI.csv')\n",
    "stock_price = TSLA['Adj Close']\n",
    "print(stock_price)\n",
    "print(stock_price.median())\n",
    "#Calculate median of adjusted close column"
   ]
  },
  {
   "cell_type": "code",
   "execution_count": null,
   "metadata": {},
   "outputs": [],
   "source": [
    "import matplotlib.pyplot as plt\n",
    "TSLA = pd.read_csv(r'C:\\Users\\18328\\Downloads\\TSLA.MI.csv')\n",
    "scatter_plot = plt.figure()\n",
    "axesl = scatter_plot.add_subplot(1, 1, 1)\n",
    "axesl.scatter(TSLA['Open'], TSLA['Adj Close'])\n",
    "axesl.set_title('Scatterplot of Open vs Adjusted Close')\n",
    "axesl.set_xlabel('Adjusted Close')\n",
    "axesl.set_ylabel('Open') \n",
    "scatter_plot.show()\n",
    "#Create scatterplot to show Open vs Adj Close"
   ]
  }
 ],
 "metadata": {
  "interpreter": {
   "hash": "74360592c001720cc45c2476dbfa8c81347105bd5ccf87fb74145f6c9dbce04c"
  },
  "kernelspec": {
   "display_name": "Python 3.9.7 ('base')",
   "language": "python",
   "name": "python3"
  },
  "language_info": {
   "codemirror_mode": {
    "name": "ipython",
    "version": 3
   },
   "file_extension": ".py",
   "mimetype": "text/x-python",
   "name": "python",
   "nbconvert_exporter": "python",
   "pygments_lexer": "ipython3",
   "version": "3.9.7"
  },
  "orig_nbformat": 4
 },
 "nbformat": 4,
 "nbformat_minor": 2
}
