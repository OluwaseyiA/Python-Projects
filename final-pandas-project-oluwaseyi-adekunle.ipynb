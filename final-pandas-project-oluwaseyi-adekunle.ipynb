{
 "cells": [
  {
   "cell_type": "code",
   "execution_count": null,
   "metadata": {},
   "outputs": [],
   "source": [
    "import pandas as pd\n",
    "df = pd.read_csv(r\"C:\\Users\\18328\\Desktop\\MISY 3350\\fortune_500_2017_fortune_500 (1).csv\")\n",
    "print(df.head()) \n",
    "#reading in a dataframe\n",
    "subset = df[['title', 'revenues', 'profits']]\n",
    "print(subset)\n",
    "plot_df = df.tail()\n",
    "industry_profits_mean = plot_df.groupby('industry')['profits'].mean()\n",
    "industry_profits_mean.plot()\n",
    "#creating a plot using the current dataframe and also using groupby on industry and profits"
   ]
  },
  {
   "cell_type": "code",
   "execution_count": null,
   "metadata": {},
   "outputs": [],
   "source": [
    "data = df.head(20)\n",
    "import matplotlib.pyplot as plt\n",
    "scatter_plot = plt.figure()\n",
    "axesl = scatter_plot.add_subplot(1, 1 , 1)\n",
    "axesl.scatter(data['revenues'], data['profits'])\n",
    "axesl.set_title('Scatterplot of Revenues to Profit')\n",
    "axesl.set_xlabel('Revenues')\n",
    "axesl.set_ylabel('Profits')\n",
    "scatter_plot.show()\n",
    "#creating a scatter plot of first 20 companies\n",
    "#assigning the columns to its axis"
   ]
  },
  {
   "cell_type": "code",
   "execution_count": null,
   "metadata": {},
   "outputs": [],
   "source": [
    "customers = pd.read_csv('Restaurant - Customers.csv')\n",
    "foods = pd.read_csv('Restaurant - Foods.csv')\n",
    "week1_sales = pd.read_csv('Restaurant - Week 1 Sales.csv')\n",
    "week2_sales = pd.read_csv('Restaurant - Week 2 Sales.csv')\n",
    "#reading in the following csv files\n",
    "print(customers)\n",
    "print(foods)\n",
    "print(week1_sales)\n",
    "print(week2_sales)"
   ]
  },
  {
   "cell_type": "code",
   "execution_count": null,
   "metadata": {},
   "outputs": [],
   "source": [
    "both_weeks = week1_sales.merge(week2_sales, how= 'inner', on= ['Customer ID', 'Food ID'])\n",
    "both_weeks.head(10)\n",
    "#using the merge method to join week2_sales into week1_sales and printing the forst rows\n",
    "both_weeks_foods = both_weeks.merge(foods, how='left', left_on='Food ID', right_on='Food ID')\n",
    "both_weeks_foods.head(10)\n",
    "#using the left join and merge method to merge foods into both_weeks \n",
    "both_weeks_foods_customers = both_weeks_foods.merge(customers, how='left', left_on='Customer ID', right_on='ID')\n",
    "both_weeks_foods_customers.head(10)\n",
    "#using the left join again to merge customers into both_weeks_foods\n",
    "print(both_weeks_foods_customers)"
   ]
  },
  {
   "cell_type": "code",
   "execution_count": null,
   "metadata": {},
   "outputs": [],
   "source": [
    "employees = pd.read_csv('employees.csv')\n",
    "#reading in employees csv file\n",
    "pd.set_option('display.max_rows', employees.shape[0]+1)\n",
    "print(employees)\n",
    "clean_employees = employees.dropna(axis = 0, how = 'any', subset = ['First Name', 'Senior Management'])\n",
    "print(clean_employees.head(10))\n",
    "#dropping rows that display NaN in the first name and senior management, printing first 10 rows\n"
   ]
  },
  {
   "cell_type": "code",
   "execution_count": null,
   "metadata": {},
   "outputs": [],
   "source": [
    "bonus = clean_employees['Salary'] * (clean_employees['Bonus %'] /100)\n",
    "clean_employees.insert(6,'Bonus',bonus,True)\n",
    "print(clean_employees)\n",
    "#calculating bonus for employees using formula"
   ]
  }
 ],
 "metadata": {
  "interpreter": {
   "hash": "2e0771d5f75274ad646feb9ae632dea9bee97ffdf369483ac87bf693b3f61672"
  },
  "kernelspec": {
   "display_name": "Python 3.9.7 ('base')",
   "language": "python",
   "name": "python3"
  },
  "language_info": {
   "codemirror_mode": {
    "name": "ipython",
    "version": 3
   },
   "file_extension": ".py",
   "mimetype": "text/x-python",
   "name": "python",
   "nbconvert_exporter": "python",
   "pygments_lexer": "ipython3",
   "version": "3.9.7"
  },
  "orig_nbformat": 4
 },
 "nbformat": 4,
 "nbformat_minor": 2
}
